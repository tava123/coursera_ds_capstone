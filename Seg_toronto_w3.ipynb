{
    "nbformat_minor": 1, 
    "cells": [
        {
            "source": "# Week 3 : Toronto neighbourhood\n", 
            "cell_type": "markdown", 
            "metadata": {
                "collapsed": true
            }
        }, 
        {
            "execution_count": 1, 
            "cell_type": "code", 
            "metadata": {}, 
            "outputs": [], 
            "source": "import numpy as np\nimport pandas as pd\nimport requests\nfrom bs4 import BeautifulSoup"
        }, 
        {
            "execution_count": 2, 
            "cell_type": "code", 
            "metadata": {}, 
            "outputs": [], 
            "source": "url_path='https://en.wikipedia.org/wiki/List_of_postal_codes_of_Canada:_M'\n\n#Get the html source\ndf = pd.read_html(url_path)[0]\n"
        }, 
        {
            "execution_count": 3, 
            "cell_type": "code", 
            "metadata": {}, 
            "outputs": [], 
            "source": "d_f=df.values.reshape(180,1)\nd_f=pd.DataFrame(d_f)"
        }, 
        {
            "execution_count": 4, 
            "cell_type": "code", 
            "metadata": {}, 
            "outputs": [], 
            "source": "df1=d_f[0].str.split(' ',1, expand= True)\ndf2=df1.set_index([0])\n"
        }, 
        {
            "execution_count": 5, 
            "cell_type": "code", 
            "metadata": {}, 
            "outputs": [
                {
                    "execution_count": 5, 
                    "metadata": {}, 
                    "data": {
                        "text/html": "<div>\n<style scoped>\n    .dataframe tbody tr th:only-of-type {\n        vertical-align: middle;\n    }\n\n    .dataframe tbody tr th {\n        vertical-align: top;\n    }\n\n    .dataframe thead th {\n        text-align: right;\n    }\n</style>\n<table border=\"1\" class=\"dataframe\">\n  <thead>\n    <tr style=\"text-align: right;\">\n      <th></th>\n      <th>0</th>\n      <th>1</th>\n    </tr>\n    <tr>\n      <th>0</th>\n      <th></th>\n      <th></th>\n    </tr>\n  </thead>\n  <tbody>\n    <tr>\n      <th>M1A</th>\n      <td>Not assigned</td>\n      <td>None</td>\n    </tr>\n    <tr>\n      <th>M2A</th>\n      <td>Not assigned</td>\n      <td>None</td>\n    </tr>\n    <tr>\n      <th>M3A</th>\n      <td>North York</td>\n      <td>Parkwoods)</td>\n    </tr>\n    <tr>\n      <th>M4A</th>\n      <td>North York</td>\n      <td>Victoria Village)</td>\n    </tr>\n    <tr>\n      <th>M5A</th>\n      <td>Downtown Toronto</td>\n      <td>Regent Park / Harbourfront)</td>\n    </tr>\n  </tbody>\n</table>\n</div>", 
                        "text/plain": "                     0                            1\n0                                                  \nM1A       Not assigned                         None\nM2A       Not assigned                         None\nM3A        North York                    Parkwoods)\nM4A        North York             Victoria Village)\nM5A  Downtown Toronto   Regent Park / Harbourfront)"
                    }, 
                    "output_type": "execute_result"
                }
            ], 
            "source": "d_t=df2[1].str.split('(',1, expand=True)"
        }, 
        {
            "execution_count": 6, 
            "cell_type": "code", 
            "metadata": {}, 
            "outputs": [], 
            "source": "d_t.columns=['Borrough','Neighbourhood']\nd_t=d_t.reset_index()\n"
        }, 
        {
            "execution_count": 7, 
            "cell_type": "code", 
            "metadata": {}, 
            "outputs": [], 
            "source": "d_t.columns=['PostalCode','Borrough','Neighbourhood']"
        }, 
        {
            "execution_count": 8, 
            "cell_type": "code", 
            "metadata": {}, 
            "outputs": [
                {
                    "execution_count": 8, 
                    "metadata": {}, 
                    "data": {
                        "text/html": "<div>\n<style scoped>\n    .dataframe tbody tr th:only-of-type {\n        vertical-align: middle;\n    }\n\n    .dataframe tbody tr th {\n        vertical-align: top;\n    }\n\n    .dataframe thead th {\n        text-align: right;\n    }\n</style>\n<table border=\"1\" class=\"dataframe\">\n  <thead>\n    <tr style=\"text-align: right;\">\n      <th></th>\n      <th>PostalCode</th>\n      <th>Borrough</th>\n      <th>Neighbourhood</th>\n    </tr>\n  </thead>\n  <tbody>\n    <tr>\n      <th>2</th>\n      <td>M3A</td>\n      <td>North York</td>\n      <td>Parkwoods)</td>\n    </tr>\n    <tr>\n      <th>3</th>\n      <td>M4A</td>\n      <td>North York</td>\n      <td>Victoria Village)</td>\n    </tr>\n    <tr>\n      <th>4</th>\n      <td>M5A</td>\n      <td>Downtown Toronto</td>\n      <td>Regent Park / Harbourfront)</td>\n    </tr>\n    <tr>\n      <th>5</th>\n      <td>M6A</td>\n      <td>North York</td>\n      <td>Lawrence Manor / Lawrence Heights)</td>\n    </tr>\n    <tr>\n      <th>6</th>\n      <td>M7A</td>\n      <td>Queen's Park Ontario Provincial Government</td>\n      <td>None</td>\n    </tr>\n  </tbody>\n</table>\n</div>", 
                        "text/plain": "  PostalCode                                    Borrough  \\\n2        M3A                                 North York    \n3        M4A                                 North York    \n4        M5A                           Downtown Toronto    \n5        M6A                                 North York    \n6        M7A  Queen's Park Ontario Provincial Government   \n\n                        Neighbourhood  \n2                          Parkwoods)  \n3                   Victoria Village)  \n4         Regent Park / Harbourfront)  \n5  Lawrence Manor / Lawrence Heights)  \n6                                None  "
                    }, 
                    "output_type": "execute_result"
                }
            ], 
            "source": "df3 = d_t[d_t['Borrough'] != 'Not assigned']  "
        }, 
        {
            "execution_count": 9, 
            "cell_type": "code", 
            "metadata": {}, 
            "outputs": [
                {
                    "output_type": "stream", 
                    "name": "stdout", 
                    "text": "(103, 3)\n"
                }
            ], 
            "source": "print(df3.shape)"
        }, 
        {
            "source": "Data cleaned up and scrubbed", 
            "cell_type": "markdown", 
            "metadata": {}
        }, 
        {
            "execution_count": 14, 
            "cell_type": "code", 
            "metadata": {}, 
            "outputs": [], 
            "source": "df3.set_index(['PostalCode'], inplace=True)"
        }, 
        {
            "execution_count": 31, 
            "cell_type": "code", 
            "metadata": {}, 
            "outputs": [
                {
                    "ename": "IndexError", 
                    "evalue": "list index out of range", 
                    "traceback": [
                        "\u001b[0;31m---------------------------------------------------------------------------\u001b[0m", 
                        "\u001b[0;31mIndexError\u001b[0m                                Traceback (most recent call last)", 
                        "\u001b[0;32m<ipython-input-31-6cc64208f59d>\u001b[0m in \u001b[0;36m<module>\u001b[0;34m()\u001b[0m\n\u001b[1;32m      7\u001b[0m \u001b[0;34m\u001b[0m\u001b[0m\n\u001b[1;32m      8\u001b[0m \u001b[0mresponse\u001b[0m \u001b[0;34m=\u001b[0m \u001b[0mrequests\u001b[0m\u001b[0;34m.\u001b[0m\u001b[0mget\u001b[0m\u001b[0;34m(\u001b[0m\u001b[0murl\u001b[0m\u001b[0;34m)\u001b[0m\u001b[0;34m.\u001b[0m\u001b[0mjson\u001b[0m\u001b[0;34m(\u001b[0m\u001b[0;34m)\u001b[0m \u001b[0;31m# get response\u001b[0m\u001b[0;34m\u001b[0m\u001b[0m\n\u001b[0;32m----> 9\u001b[0;31m \u001b[0mgeographical_data\u001b[0m \u001b[0;34m=\u001b[0m \u001b[0mresponse\u001b[0m\u001b[0;34m[\u001b[0m\u001b[0;34m'results'\u001b[0m\u001b[0;34m]\u001b[0m\u001b[0;34m[\u001b[0m\u001b[0;36m0\u001b[0m\u001b[0;34m]\u001b[0m\u001b[0;34m[\u001b[0m\u001b[0;34m'geometry'\u001b[0m\u001b[0;34m]\u001b[0m\u001b[0;34m[\u001b[0m\u001b[0;34m'location'\u001b[0m\u001b[0;34m]\u001b[0m \u001b[0;31m# get geographical coordinates\u001b[0m\u001b[0;34m\u001b[0m\u001b[0m\n\u001b[0m\u001b[1;32m     10\u001b[0m \u001b[0mlatitude\u001b[0m \u001b[0;34m=\u001b[0m \u001b[0mgeographical_data\u001b[0m\u001b[0;34m[\u001b[0m\u001b[0;34m'lat'\u001b[0m\u001b[0;34m]\u001b[0m\u001b[0;34m\u001b[0m\u001b[0m\n\u001b[1;32m     11\u001b[0m \u001b[0mlongitude\u001b[0m \u001b[0;34m=\u001b[0m \u001b[0mgeographical_data\u001b[0m\u001b[0;34m[\u001b[0m\u001b[0;34m'lng'\u001b[0m\u001b[0;34m]\u001b[0m\u001b[0;34m\u001b[0m\u001b[0m\n", 
                        "\u001b[0;31mIndexError\u001b[0m: list index out of range"
                    ], 
                    "output_type": "error"
                }
            ], 
            "source": "# The code was removed by DSX for sharing."
        }, 
        {
            "execution_count": 34, 
            "cell_type": "code", 
            "metadata": {}, 
            "outputs": [
                {
                    "output_type": "stream", 
                    "name": "stderr", 
                    "text": "/opt/conda/envs/DSX-Python35/lib/python3.5/site-packages/pandas/core/indexing.py:194: SettingWithCopyWarning: \nA value is trying to be set on a copy of a slice from a DataFrame\n\nSee the caveats in the documentation: http://pandas.pydata.org/pandas-docs/stable/indexing.html#indexing-view-versus-copy\n  self._setitem_with_indexer(indexer, value)\n/opt/conda/envs/DSX-Python35/lib/python3.5/site-packages/ipykernel/__main__.py:9: SettingWithCopyWarning: \nA value is trying to be set on a copy of a slice from a DataFrame\n\nSee the caveats in the documentation: http://pandas.pydata.org/pandas-docs/stable/indexing.html#indexing-view-versus-copy\n/opt/conda/envs/DSX-Python35/lib/python3.5/site-packages/ipykernel/__main__.py:10: SettingWithCopyWarning: \nA value is trying to be set on a copy of a slice from a DataFrame\n\nSee the caveats in the documentation: http://pandas.pydata.org/pandas-docs/stable/indexing.html#indexing-view-versus-copy\n"
                }
            ], 
            "source": "for pcode in df3.index:\n    url = 'https://maps.googleapis.com/maps/api/geocode/json?key={}&address={}'.format(API_key, pcode)\n\n    response = requests.get(url).json() # get response\n    try:\n        geographical_data = response['results'][0]['geometry']['location'] # get geographical coordinates\n        latitude = geographical_data['lat']\n        longitude = geographical_data['lng']\n        df3.loc[df3.index == pcode, 'Latitute']= latitude\n        df3.loc[df3.index == pcode, 'Longitude']= longitude\n        \n    except:\n        pass\n"
        }, 
        {
            "execution_count": 38, 
            "cell_type": "code", 
            "metadata": {}, 
            "outputs": [], 
            "source": "df4=df3[df3['Latitute']!='']"
        }, 
        {
            "execution_count": 39, 
            "cell_type": "code", 
            "metadata": {}, 
            "outputs": [
                {
                    "execution_count": 39, 
                    "metadata": {}, 
                    "data": {
                        "text/html": "<div>\n<style scoped>\n    .dataframe tbody tr th:only-of-type {\n        vertical-align: middle;\n    }\n\n    .dataframe tbody tr th {\n        vertical-align: top;\n    }\n\n    .dataframe thead th {\n        text-align: right;\n    }\n</style>\n<table border=\"1\" class=\"dataframe\">\n  <thead>\n    <tr style=\"text-align: right;\">\n      <th></th>\n      <th>Borrough</th>\n      <th>Neighbourhood</th>\n      <th>Latitute</th>\n      <th>Longitude</th>\n    </tr>\n    <tr>\n      <th>PostalCode</th>\n      <th></th>\n      <th></th>\n      <th></th>\n      <th></th>\n    </tr>\n  </thead>\n  <tbody>\n    <tr>\n      <th>M3A</th>\n      <td>North York</td>\n      <td>Parkwoods)</td>\n      <td>32.3636</td>\n      <td>-90.1524</td>\n    </tr>\n    <tr>\n      <th>M4B</th>\n      <td>East York</td>\n      <td>Parkview Hill / Woodbine Gardens)</td>\n      <td>43.7149</td>\n      <td>-79.3051</td>\n    </tr>\n    <tr>\n      <th>M3C</th>\n      <td>North York</td>\n      <td>Don Mills) South (Flemingdon Park)</td>\n      <td>45.5725</td>\n      <td>-73.414</td>\n    </tr>\n    <tr>\n      <th>M4C</th>\n      <td>East York</td>\n      <td>Woodbine Heights)</td>\n      <td>43.6846</td>\n      <td>-79.3188</td>\n    </tr>\n    <tr>\n      <th>M1E</th>\n      <td>Scarborough</td>\n      <td>Guildwood / Morningside / West Hill)</td>\n      <td>43.7636</td>\n      <td>-79.1887</td>\n    </tr>\n  </tbody>\n</table>\n</div>", 
                        "text/plain": "                Borrough                         Neighbourhood Latitute  \\\nPostalCode                                                                \nM3A          North York                             Parkwoods)  32.3636   \nM4B           East York      Parkview Hill / Woodbine Gardens)  43.7149   \nM3C          North York     Don Mills) South (Flemingdon Park)  45.5725   \nM4C           East York                      Woodbine Heights)  43.6846   \nM1E         Scarborough   Guildwood / Morningside / West Hill)  43.7636   \n\n           Longitude  \nPostalCode            \nM3A         -90.1524  \nM4B         -79.3051  \nM3C          -73.414  \nM4C         -79.3188  \nM1E         -79.1887  "
                    }, 
                    "output_type": "execute_result"
                }
            ], 
            "source": "df4.head()"
        }, 
        {
            "execution_count": 40, 
            "cell_type": "code", 
            "metadata": {}, 
            "outputs": [
                {
                    "execution_count": 40, 
                    "metadata": {}, 
                    "data": {
                        "text/plain": "(45, 4)"
                    }, 
                    "output_type": "execute_result"
                }
            ], 
            "source": "df4.shape"
        }, 
        {
            "execution_count": null, 
            "cell_type": "code", 
            "metadata": {}, 
            "outputs": [], 
            "source": ""
        }
    ], 
    "metadata": {
        "kernelspec": {
            "display_name": "Python 3.5", 
            "name": "python3", 
            "language": "python"
        }, 
        "language_info": {
            "mimetype": "text/x-python", 
            "nbconvert_exporter": "python", 
            "version": "3.5.5", 
            "name": "python", 
            "file_extension": ".py", 
            "pygments_lexer": "ipython3", 
            "codemirror_mode": {
                "version": 3, 
                "name": "ipython"
            }
        }
    }, 
    "nbformat": 4
}